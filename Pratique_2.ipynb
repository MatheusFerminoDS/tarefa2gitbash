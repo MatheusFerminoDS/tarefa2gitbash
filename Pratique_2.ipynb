{
  "nbformat": 4,
  "nbformat_minor": 0,
  "metadata": {
    "colab": {
      "provenance": []
    },
    "kernelspec": {
      "name": "python3",
      "display_name": "Python 3"
    },
    "language_info": {
      "name": "python"
    }
  },
  "cells": [
    {
      "cell_type": "markdown",
      "source": [
        "Pratique 2"
      ],
      "metadata": {
        "id": "hRBPQ09phGCg"
      }
    },
    {
      "cell_type": "markdown",
      "source": [
        "Tarefa 2 •Envie um (ou mais) print da tela do seu computador contendo os seguintes comandos executados no gitbash: • git add • git commit • git push • git status"
      ],
      "metadata": {
        "id": "MoPlRgx6hG6g"
      }
    },
    {
      "cell_type": "markdown",
      "source": [],
      "metadata": {
        "id": "mMs00vI3hD-P"
      }
    }
  ]
}